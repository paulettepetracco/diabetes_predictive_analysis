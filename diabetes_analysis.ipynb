{
 "cells": [
  {
   "cell_type": "code",
   "execution_count": null,
   "metadata": {},
   "outputs": [],
   "source": [
    "# Dependencies and Setup\n",
    "import matplotlib.pyplot as plt\n",
    "import pandas as pd\n",
    "import numpy as np\n",
    "import scipy.stats as st"
   ]
  },
  {
   "cell_type": "code",
   "execution_count": null,
   "metadata": {},
   "outputs": [],
   "source": [
    "# File to Load\n",
    "diabetes_dataset_to_load = \"Resources/diabetes_prediction_dataset.csv\"\n",
    "\n",
    "# Read the Diabetes Data File\n",
    "diabetes_df = pd.read_csv(diabetes_dataset_to_load)"
   ]
  },
  {
   "cell_type": "code",
   "execution_count": null,
   "metadata": {},
   "outputs": [],
   "source": [
    "# Display the data table for preview\n",
    "diabetes_df"
   ]
  },
  {
   "cell_type": "markdown",
   "metadata": {},
   "source": [
    "# Clean the data"
   ]
  },
  {
   "cell_type": "code",
   "execution_count": null,
   "metadata": {},
   "outputs": [],
   "source": [
    "# check for null values\n",
    "diabetes_df.dropna(how='any', axis=0)"
   ]
  },
  {
   "cell_type": "code",
   "execution_count": null,
   "metadata": {},
   "outputs": [],
   "source": [
    "# Calculate the number of patients by gender\n",
    "diabetes_df.groupby('gender').count()"
   ]
  },
  {
   "cell_type": "code",
   "execution_count": null,
   "metadata": {},
   "outputs": [],
   "source": [
    "male_count = diabetes_df[diabetes_df.gender =='Male'].gender.count()\n",
    "female_count = diabetes_df[diabetes_df.gender =='Female'].gender.count()\n",
    "Other_count = diabetes_df[diabetes_df.gender =='Other'].gender.count()\n",
    "\n",
    "# male_count\n",
    "# female_count\n",
    "# Other_count"
   ]
  },
  {
   "cell_type": "code",
   "execution_count": null,
   "metadata": {},
   "outputs": [],
   "source": []
  },
  {
   "cell_type": "markdown",
   "metadata": {},
   "source": [
    "# Summary statistics for each variable"
   ]
  },
  {
   "cell_type": "code",
   "execution_count": null,
   "metadata": {},
   "outputs": [],
   "source": [
    "# \n",
    "mean = diabetes_df.groupby(['bmi'])['blood_glucose_level'].median()\n",
    "var = diabetes_df.groupby(['bmi'])['blood_glucose_level'].var()\n",
    "std = diabetes_df.groupby(['bmi'])['blood_glucose_level'].std()\n",
    "sem = diabetes_df.groupby(['bmi'])['blood_glucose_level'].sem()\n",
    "\n",
    "bmi_bloodglucose_df = pd.DataFrame({'Mean Blood Glucose':mean, 'Median Blood Glucose':median, 'Blood Glucose Variance':var, 'Blood Glucose Std.Dev':std, 'Blood Glucose Std Err':sem})\n",
    "\n",
    "bmi_bloodglucose_df "
   ]
  },
  {
   "cell_type": "code",
   "execution_count": null,
   "metadata": {},
   "outputs": [],
   "source": [
    "mean = diabetes_df.groupby(['blood_glucose_level'])['bmi'].median()\n",
    "var = diabetes_df.groupby(['blood_glucose_level'])['bmi'].var()\n",
    "std = diabetes_df.groupby(['blood_glucose_level'])['bmi'].std()\n",
    "sem = diabetes_df.groupby(['blood_glucose_level'])['bmi'].sem()\n",
    "\n",
    "bloodglucose_bmi_df = pd.DataFrame({'Mean BMI':mean, 'Median BMI':median, 'BMI Variance':var, 'BMI Std.Dev':std, 'BMI Std Err':sem})\n",
    "\n",
    "bloodglucose_bmi_df "
   ]
  },
  {
   "cell_type": "code",
   "execution_count": null,
   "metadata": {},
   "outputs": [],
   "source": [
    "mean = diabetes_df.groupby(['HbA1c_level'])['bmi'].mean()\n",
    "median = diabetes_df.groupby(['HbA1c_level'])['bmi'].median()\n",
    "var = diabetes_df.groupby(['HbA1c_level'])['bmi'].var()\n",
    "std = diabetes_df.groupby(['HbA1c_level'])['bmi'].std()\n",
    "sem = diabetes_df.groupby(['HbA1c_level'])['bmi'].sem()\n",
    "\n",
    "hba1clevel_bmi_df = pd.DataFrame({'Mean BMI':mean, 'Median BMI ':median, 'BMI Variance':var, 'BMI Std.Dev':std, 'BMI Std Err':sem})\n",
    "\n",
    "hba1clevel_bmi_df"
   ]
  },
  {
   "cell_type": "code",
   "execution_count": null,
   "metadata": {},
   "outputs": [],
   "source": [
    "mean = diabetes_df.groupby(['bmi'])['HbA1c_level'].mean()\n",
    "median = diabetes_df.groupby(['bmi'])['HbA1c_level'].median()\n",
    "var = diabetes_df.groupby(['bmi'])['HbA1c_level'].var()\n",
    "std = diabetes_df.groupby(['bmi'])['HbA1c_level'].std()\n",
    "sem = diabetes_df.groupby(['bmi'])['HbA1c_level'].sem()\n",
    "\n",
    "bmi_hba1clevel_df = pd.DataFrame({'Mean HbA1c Level':mean, 'Median HbA1c Level':median, 'HbA1c Level Variance':var, 'HbA1c Level Std.Dev':std, 'HbA1c Level Std Err':sem})\n",
    "\n",
    "bmi_hba1clevel_df "
   ]
  },
  {
   "cell_type": "code",
   "execution_count": null,
   "metadata": {},
   "outputs": [],
   "source": [
    "mean = diabetes_df.groupby(['bmi'])['age'].mean()\n",
    "median = diabetes_df.groupby(['bmi'])['age'].median()\n",
    "var = diabetes_df.groupby(['bmi'])['age'].var()\n",
    "std = diabetes_df.groupby(['bmi'])['age'].std()\n",
    "sem = diabetes_df.groupby(['bmi'])['age'].sem()\n",
    "\n",
    "bmi_age_df = pd.DataFrame({'Mean Age':mean, 'Median Age ':median, 'Age Variance':var, 'Age Std.Dev':std, 'Age Std Err':sem})\n",
    "\n",
    "bmi_age_df "
   ]
  },
  {
   "cell_type": "code",
   "execution_count": null,
   "metadata": {},
   "outputs": [],
   "source": [
    "mean = diabetes_df.groupby(['age'])['bmi'].mean()\n",
    "median = diabetes_df.groupby(['age'])['bmi'].median()\n",
    "var = diabetes_df.groupby(['age'])['bmi'].var()\n",
    "std = diabetes_df.groupby(['age'])['bmi'].std()\n",
    "sem = diabetes_df.groupby(['age'])['bmi'].sem()\n",
    "\n",
    "age_bmi_df = pd.DataFrame({'Mean BMI':mean, 'Median BMI ':median, 'BMI Variance':var, 'BMI Std.Dev':std, 'BMI Std Err':sem})\n",
    "\n",
    "age_bmi_df "
   ]
  },
  {
   "cell_type": "markdown",
   "metadata": {},
   "source": [
    "# plotting variables to see the relationship"
   ]
  },
  {
   "cell_type": "code",
   "execution_count": null,
   "metadata": {},
   "outputs": [],
   "source": [
    "# line chart for diabetes_HbA1c_df\n",
    "bloodglucose_bmi_df  = diabetes_df.groupby('blood_glucose_level')['bmi'].count().sort_values(ascending=False)\n",
    "bloodglucose_bmi_df \n",
    "\n",
    "bloodglucose_bmi_bar = bloodglucose_bmi_df.plot(kind='bar')\n",
    "bloodglucose_bmi_bar.set_xlabel('HbA1c_level')\n",
    "bloodglucose_bmi_bar.set_ylabel('# of diabetes cases')\n",
    "\n",
    "bloodglucose_bmi_bar.plot();"
   ]
  },
  {
   "cell_type": "code",
   "execution_count": null,
   "metadata": {},
   "outputs": [],
   "source": []
  },
  {
   "cell_type": "code",
   "execution_count": null,
   "metadata": {},
   "outputs": [],
   "source": []
  },
  {
   "cell_type": "code",
   "execution_count": null,
   "metadata": {},
   "outputs": [],
   "source": [
    "# scatterplot for bloodglucose_diabetes_df\n"
   ]
  },
  {
   "cell_type": "code",
   "execution_count": null,
   "metadata": {},
   "outputs": [],
   "source": [
    "# histogram"
   ]
  },
  {
   "cell_type": "markdown",
   "metadata": {},
   "source": [
    "# Creating linear regressions and correlation coefficients for variables"
   ]
  },
  {
   "cell_type": "code",
   "execution_count": null,
   "metadata": {},
   "outputs": [],
   "source": [
    "# linear regression"
   ]
  },
  {
   "cell_type": "code",
   "execution_count": null,
   "metadata": {},
   "outputs": [],
   "source": [
    "# Conclusions about relationships between variables"
   ]
  },
  {
   "cell_type": "code",
   "execution_count": null,
   "metadata": {},
   "outputs": [],
   "source": [
    "# t-tests\n",
    "# 32 and up -average\n",
    "# 31 and below - average"
   ]
  },
  {
   "cell_type": "code",
   "execution_count": null,
   "metadata": {},
   "outputs": [],
   "source": [
    "# Age(x axis) vs diabetes"
   ]
  },
  {
   "cell_type": "code",
   "execution_count": null,
   "metadata": {},
   "outputs": [],
   "source": [
    "# 1 t-test 32bmi vs the population\n"
   ]
  },
  {
   "cell_type": "code",
   "execution_count": null,
   "metadata": {},
   "outputs": [],
   "source": [
    "# Anova Testing"
   ]
  }
 ],
 "metadata": {
  "kernelspec": {
   "display_name": "dev",
   "language": "python",
   "name": "python3"
  },
  "language_info": {
   "codemirror_mode": {
    "name": "ipython",
    "version": 3
   },
   "file_extension": ".py",
   "mimetype": "text/x-python",
   "name": "python",
   "nbconvert_exporter": "python",
   "pygments_lexer": "ipython3",
   "version": "3.11.5"
  }
 },
 "nbformat": 4,
 "nbformat_minor": 2
}
