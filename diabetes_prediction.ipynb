{
 "cells": [
  {
   "cell_type": "code",
   "execution_count": 1,
   "metadata": {},
   "outputs": [],
   "source": [
    "import matplotlib.pyplot as plt\n",
    "import pandas as pd\n",
    "import scipy.stats as st"
   ]
  },
  {
   "cell_type": "code",
   "execution_count": 2,
   "metadata": {},
   "outputs": [
    {
     "data": {
      "text/html": [
       "<div>\n",
       "<style scoped>\n",
       "    .dataframe tbody tr th:only-of-type {\n",
       "        vertical-align: middle;\n",
       "    }\n",
       "\n",
       "    .dataframe tbody tr th {\n",
       "        vertical-align: top;\n",
       "    }\n",
       "\n",
       "    .dataframe thead th {\n",
       "        text-align: right;\n",
       "    }\n",
       "</style>\n",
       "<table border=\"1\" class=\"dataframe\">\n",
       "  <thead>\n",
       "    <tr style=\"text-align: right;\">\n",
       "      <th></th>\n",
       "      <th>gender</th>\n",
       "      <th>age</th>\n",
       "      <th>hypertension</th>\n",
       "      <th>heart_disease</th>\n",
       "      <th>smoking_history</th>\n",
       "      <th>bmi</th>\n",
       "      <th>HbA1c_level</th>\n",
       "      <th>blood_glucose_level</th>\n",
       "      <th>diabetes</th>\n",
       "    </tr>\n",
       "  </thead>\n",
       "  <tbody>\n",
       "    <tr>\n",
       "      <th>0</th>\n",
       "      <td>Female</td>\n",
       "      <td>80.0</td>\n",
       "      <td>0</td>\n",
       "      <td>1</td>\n",
       "      <td>never</td>\n",
       "      <td>25.19</td>\n",
       "      <td>6.6</td>\n",
       "      <td>140</td>\n",
       "      <td>0</td>\n",
       "    </tr>\n",
       "    <tr>\n",
       "      <th>1</th>\n",
       "      <td>Female</td>\n",
       "      <td>54.0</td>\n",
       "      <td>0</td>\n",
       "      <td>0</td>\n",
       "      <td>No Info</td>\n",
       "      <td>27.32</td>\n",
       "      <td>6.6</td>\n",
       "      <td>80</td>\n",
       "      <td>0</td>\n",
       "    </tr>\n",
       "    <tr>\n",
       "      <th>2</th>\n",
       "      <td>Male</td>\n",
       "      <td>28.0</td>\n",
       "      <td>0</td>\n",
       "      <td>0</td>\n",
       "      <td>never</td>\n",
       "      <td>27.32</td>\n",
       "      <td>5.7</td>\n",
       "      <td>158</td>\n",
       "      <td>0</td>\n",
       "    </tr>\n",
       "    <tr>\n",
       "      <th>3</th>\n",
       "      <td>Female</td>\n",
       "      <td>36.0</td>\n",
       "      <td>0</td>\n",
       "      <td>0</td>\n",
       "      <td>current</td>\n",
       "      <td>23.45</td>\n",
       "      <td>5.0</td>\n",
       "      <td>155</td>\n",
       "      <td>0</td>\n",
       "    </tr>\n",
       "    <tr>\n",
       "      <th>4</th>\n",
       "      <td>Male</td>\n",
       "      <td>76.0</td>\n",
       "      <td>1</td>\n",
       "      <td>1</td>\n",
       "      <td>current</td>\n",
       "      <td>20.14</td>\n",
       "      <td>4.8</td>\n",
       "      <td>155</td>\n",
       "      <td>0</td>\n",
       "    </tr>\n",
       "  </tbody>\n",
       "</table>\n",
       "</div>"
      ],
      "text/plain": [
       "   gender   age  hypertension  heart_disease smoking_history    bmi  \\\n",
       "0  Female  80.0             0              1           never  25.19   \n",
       "1  Female  54.0             0              0         No Info  27.32   \n",
       "2    Male  28.0             0              0           never  27.32   \n",
       "3  Female  36.0             0              0         current  23.45   \n",
       "4    Male  76.0             1              1         current  20.14   \n",
       "\n",
       "   HbA1c_level  blood_glucose_level  diabetes  \n",
       "0          6.6                  140         0  \n",
       "1          6.6                   80         0  \n",
       "2          5.7                  158         0  \n",
       "3          5.0                  155         0  \n",
       "4          4.8                  155         0  "
      ]
     },
     "execution_count": 2,
     "metadata": {},
     "output_type": "execute_result"
    }
   ],
   "source": [
    "# Specify the path to the CSV file\n",
    "diabetes_prediction_path = r\"C:\\Users\\rjone\\OneDrive\\Desktop\\Project_1\\Data\\diabetes_prediction_dataset.csv\"\n",
    "\n",
    "# Read the CSV file into a DataFrame\n",
    "diabetes_prediction = pd.read_csv(diabetes_prediction_path)\n",
    "\n",
    "# Display the first few rows of the DataFrame\n",
    "diabetes_prediction.head()"
   ]
  },
  {
   "cell_type": "code",
   "execution_count": 3,
   "metadata": {},
   "outputs": [
    {
     "data": {
      "text/html": [
       "<div>\n",
       "<style scoped>\n",
       "    .dataframe tbody tr th:only-of-type {\n",
       "        vertical-align: middle;\n",
       "    }\n",
       "\n",
       "    .dataframe tbody tr th {\n",
       "        vertical-align: top;\n",
       "    }\n",
       "\n",
       "    .dataframe thead th {\n",
       "        text-align: right;\n",
       "    }\n",
       "</style>\n",
       "<table border=\"1\" class=\"dataframe\">\n",
       "  <thead>\n",
       "    <tr style=\"text-align: right;\">\n",
       "      <th></th>\n",
       "      <th>gender</th>\n",
       "      <th>age</th>\n",
       "      <th>hypertension</th>\n",
       "      <th>heart_disease</th>\n",
       "      <th>smoking_history</th>\n",
       "      <th>bmi</th>\n",
       "      <th>HbA1c_level</th>\n",
       "      <th>blood_glucose_level</th>\n",
       "      <th>diabetes</th>\n",
       "    </tr>\n",
       "  </thead>\n",
       "  <tbody>\n",
       "    <tr>\n",
       "      <th>0</th>\n",
       "      <td>Female</td>\n",
       "      <td>80.0</td>\n",
       "      <td>0</td>\n",
       "      <td>1</td>\n",
       "      <td>never</td>\n",
       "      <td>25.19</td>\n",
       "      <td>6.6</td>\n",
       "      <td>140</td>\n",
       "      <td>0</td>\n",
       "    </tr>\n",
       "    <tr>\n",
       "      <th>1</th>\n",
       "      <td>Female</td>\n",
       "      <td>54.0</td>\n",
       "      <td>0</td>\n",
       "      <td>0</td>\n",
       "      <td>No Info</td>\n",
       "      <td>27.32</td>\n",
       "      <td>6.6</td>\n",
       "      <td>80</td>\n",
       "      <td>0</td>\n",
       "    </tr>\n",
       "    <tr>\n",
       "      <th>2</th>\n",
       "      <td>Male</td>\n",
       "      <td>28.0</td>\n",
       "      <td>0</td>\n",
       "      <td>0</td>\n",
       "      <td>never</td>\n",
       "      <td>27.32</td>\n",
       "      <td>5.7</td>\n",
       "      <td>158</td>\n",
       "      <td>0</td>\n",
       "    </tr>\n",
       "    <tr>\n",
       "      <th>3</th>\n",
       "      <td>Female</td>\n",
       "      <td>36.0</td>\n",
       "      <td>0</td>\n",
       "      <td>0</td>\n",
       "      <td>current</td>\n",
       "      <td>23.45</td>\n",
       "      <td>5.0</td>\n",
       "      <td>155</td>\n",
       "      <td>0</td>\n",
       "    </tr>\n",
       "    <tr>\n",
       "      <th>4</th>\n",
       "      <td>Male</td>\n",
       "      <td>76.0</td>\n",
       "      <td>1</td>\n",
       "      <td>1</td>\n",
       "      <td>current</td>\n",
       "      <td>20.14</td>\n",
       "      <td>4.8</td>\n",
       "      <td>155</td>\n",
       "      <td>0</td>\n",
       "    </tr>\n",
       "  </tbody>\n",
       "</table>\n",
       "</div>"
      ],
      "text/plain": [
       "   gender   age  hypertension  heart_disease smoking_history    bmi  \\\n",
       "0  Female  80.0             0              1           never  25.19   \n",
       "1  Female  54.0             0              0         No Info  27.32   \n",
       "2    Male  28.0             0              0           never  27.32   \n",
       "3  Female  36.0             0              0         current  23.45   \n",
       "4    Male  76.0             1              1         current  20.14   \n",
       "\n",
       "   HbA1c_level  blood_glucose_level  diabetes  \n",
       "0          6.6                  140         0  \n",
       "1          6.6                   80         0  \n",
       "2          5.7                  158         0  \n",
       "3          5.0                  155         0  \n",
       "4          4.8                  155         0  "
      ]
     },
     "execution_count": 3,
     "metadata": {},
     "output_type": "execute_result"
    }
   ],
   "source": [
    "diabetes_prediction_clean = diabetes_prediction.drop_duplicates()\n",
    "diabetes_prediction_clean.head()\n"
   ]
  },
  {
   "cell_type": "code",
   "execution_count": 4,
   "metadata": {},
   "outputs": [
    {
     "data": {
      "text/plain": [
       "41.79432571297817"
      ]
     },
     "execution_count": 4,
     "metadata": {},
     "output_type": "execute_result"
    }
   ],
   "source": [
    "mean_age = diabetes_prediction_clean[\"age\"].mean()\n",
    "mean_age"
   ]
  },
  {
   "cell_type": "code",
   "execution_count": 5,
   "metadata": {},
   "outputs": [
    {
     "data": {
      "text/plain": [
       "95.69"
      ]
     },
     "execution_count": 5,
     "metadata": {},
     "output_type": "execute_result"
    }
   ],
   "source": [
    "highest_bmi= diabetes_prediction_clean [\"bmi\"].max()\n",
    "highest_bmi"
   ]
  },
  {
   "cell_type": "code",
   "execution_count": 6,
   "metadata": {},
   "outputs": [
    {
     "data": {
      "text/plain": [
       "10.01"
      ]
     },
     "execution_count": 6,
     "metadata": {},
     "output_type": "execute_result"
    }
   ],
   "source": [
    "lowest_bmi = diabetes_prediction_clean [\"bmi\"].min()\n",
    "lowest_bmi"
   ]
  },
  {
   "cell_type": "code",
   "execution_count": 7,
   "metadata": {},
   "outputs": [
    {
     "data": {
      "text/plain": [
       "3419"
      ]
     },
     "execution_count": 7,
     "metadata": {},
     "output_type": "execute_result"
    }
   ],
   "source": [
    "obese_with_betes = len(diabetes_prediction_clean[(diabetes_prediction_clean['bmi'] > 32) & (diabetes_prediction_clean['diabetes'] == 1)])\n",
    "obese_with_betes\n",
    "\n"
   ]
  },
  {
   "cell_type": "code",
   "execution_count": 45,
   "metadata": {},
   "outputs": [
    {
     "data": {
      "text/plain": [
       "17285"
      ]
     },
     "execution_count": 45,
     "metadata": {},
     "output_type": "execute_result"
    }
   ],
   "source": [
    "obese =  len(diabetes_prediction_clean[diabetes_prediction_clean['bmi'] > 32])\n",
    "obese"
   ]
  },
  {
   "cell_type": "code",
   "execution_count": 9,
   "metadata": {},
   "outputs": [
    {
     "data": {
      "text/plain": [
       "19.78015620480185"
      ]
     },
     "execution_count": 9,
     "metadata": {},
     "output_type": "execute_result"
    }
   ],
   "source": [
    "rate_obese_with_betes = (obese_with_betes/obese)*100\n",
    "rate_obese_with_betes"
   ]
  },
  {
   "cell_type": "code",
   "execution_count": 43,
   "metadata": {},
   "outputs": [
    {
     "data": {
      "text/plain": [
       "23388"
      ]
     },
     "execution_count": 43,
     "metadata": {},
     "output_type": "execute_result"
    }
   ],
   "source": [
    "healthy_BMI = len(diabetes_prediction_clean[(diabetes_prediction_clean['bmi'] <= 25) & (diabetes_prediction_clean[\"bmi\"] >= 18)])\n",
    "healthy_BMI"
   ]
  },
  {
   "cell_type": "code",
   "execution_count": 71,
   "metadata": {},
   "outputs": [
    {
     "name": "stderr",
     "output_type": "stream",
     "text": [
      "C:\\Users\\rjone\\AppData\\Local\\Temp\\ipykernel_16444\\661278412.py:1: UserWarning: Boolean Series key will be reindexed to match DataFrame index.\n",
      "  healthy_BMI_betes = len(diabetes_prediction_clean[(diabetes_prediction_clean['bmi'] <= 25) & (diabetes_prediction_clean[\"bmi\"] >= 18) & (diabetes_prediction['diabetes'] == 1)])\n"
     ]
    },
    {
     "data": {
      "text/plain": [
       "877"
      ]
     },
     "execution_count": 71,
     "metadata": {},
     "output_type": "execute_result"
    }
   ],
   "source": [
    "healthy_BMI_betes = len(diabetes_prediction_clean[(diabetes_prediction_clean['bmi'] <= 25) & (diabetes_prediction_clean[\"bmi\"] >= 18) & (diabetes_prediction['diabetes'] == 1)])\n",
    "healthy_BMI_betes"
   ]
  },
  {
   "cell_type": "code",
   "execution_count": 42,
   "metadata": {},
   "outputs": [
    {
     "data": {
      "text/plain": [
       "3.74978621515307"
      ]
     },
     "execution_count": 42,
     "metadata": {},
     "output_type": "execute_result"
    }
   ],
   "source": [
    "rate_healthy_BMI_betes = (healthy_BMI_betes/healthy_BMI)*100\n",
    "rate_healthy_BMI_betes"
   ]
  },
  {
   "cell_type": "code",
   "execution_count": 50,
   "metadata": {},
   "outputs": [
    {
     "data": {
      "text/plain": [
       "4035"
      ]
     },
     "execution_count": 50,
     "metadata": {},
     "output_type": "execute_result"
    }
   ],
   "source": [
    "male_with_diabetes = len(diabetes_prediction_clean[(diabetes_prediction_clean[\"gender\"] == \"Male\") & (diabetes_prediction_clean[\"diabetes\"] == 1)])\n",
    "male_with_diabetes        "
   ]
  },
  {
   "cell_type": "code",
   "execution_count": 51,
   "metadata": {},
   "outputs": [
    {
     "data": {
      "text/plain": [
       "4447"
      ]
     },
     "execution_count": 51,
     "metadata": {},
     "output_type": "execute_result"
    }
   ],
   "source": [
    "female_with_betes = len(diabetes_prediction_clean[(diabetes_prediction_clean[\"gender\"] == \"Female\") & (diabetes_prediction_clean[\"diabetes\"] == 1)])\n",
    "female_with_betes"
   ]
  },
  {
   "cell_type": "code",
   "execution_count": 52,
   "metadata": {},
   "outputs": [
    {
     "data": {
      "text/plain": [
       "39967"
      ]
     },
     "execution_count": 52,
     "metadata": {},
     "output_type": "execute_result"
    }
   ],
   "source": [
    "males = len(diabetes_prediction_clean[(diabetes_prediction_clean[\"gender\"] == \"Male\")])\n",
    "males"
   ]
  },
  {
   "cell_type": "code",
   "execution_count": 53,
   "metadata": {},
   "outputs": [
    {
     "data": {
      "text/plain": [
       "56161"
      ]
     },
     "execution_count": 53,
     "metadata": {},
     "output_type": "execute_result"
    }
   ],
   "source": [
    "females = len(diabetes_prediction_clean[(diabetes_prediction_clean[\"gender\"] == \"Female\")])\n",
    "females"
   ]
  },
  {
   "cell_type": "code",
   "execution_count": 54,
   "metadata": {},
   "outputs": [
    {
     "data": {
      "text/plain": [
       "80.0"
      ]
     },
     "execution_count": 54,
     "metadata": {},
     "output_type": "execute_result"
    }
   ],
   "source": [
    "oldest = diabetes_prediction_clean[\"age\"].max()\n",
    "oldest\n"
   ]
  },
  {
   "cell_type": "code",
   "execution_count": 18,
   "metadata": {},
   "outputs": [],
   "source": [
    "# Establish the bins \n",
    "age_bins = [20, 35 , 50, 65, 80]\n",
    "\n",
    "# Define the bins\n",
    "age_labels = [\"Young Adult\", \"Adult\", \"Middle Aged\", \"Ederly\"]"
   ]
  },
  {
   "cell_type": "code",
   "execution_count": 56,
   "metadata": {},
   "outputs": [
    {
     "name": "stderr",
     "output_type": "stream",
     "text": [
      "C:\\Users\\rjone\\AppData\\Local\\Temp\\ipykernel_16444\\1289037778.py:8: SettingWithCopyWarning: \n",
      "A value is trying to be set on a copy of a slice from a DataFrame.\n",
      "Try using .loc[row_indexer,col_indexer] = value instead\n",
      "\n",
      "See the caveats in the documentation: https://pandas.pydata.org/pandas-docs/stable/user_guide/indexing.html#returning-a-view-versus-a-copy\n",
      "  diabetes_prediction_clean['age_group'] = pd.cut(diabetes_prediction_clean['age'], bins=age_bins, labels=age_labels, right=False)\n"
     ]
    },
    {
     "data": {
      "text/html": [
       "<div>\n",
       "<style scoped>\n",
       "    .dataframe tbody tr th:only-of-type {\n",
       "        vertical-align: middle;\n",
       "    }\n",
       "\n",
       "    .dataframe tbody tr th {\n",
       "        vertical-align: top;\n",
       "    }\n",
       "\n",
       "    .dataframe thead th {\n",
       "        text-align: right;\n",
       "    }\n",
       "</style>\n",
       "<table border=\"1\" class=\"dataframe\">\n",
       "  <thead>\n",
       "    <tr style=\"text-align: right;\">\n",
       "      <th></th>\n",
       "      <th>Age Range</th>\n",
       "      <th>Number of Patients with Diabetes</th>\n",
       "    </tr>\n",
       "  </thead>\n",
       "  <tbody>\n",
       "    <tr>\n",
       "      <th>0</th>\n",
       "      <td>Young Adult</td>\n",
       "      <td>333</td>\n",
       "    </tr>\n",
       "    <tr>\n",
       "      <th>1</th>\n",
       "      <td>Adult</td>\n",
       "      <td>1268</td>\n",
       "    </tr>\n",
       "    <tr>\n",
       "      <th>2</th>\n",
       "      <td>Middle Aged</td>\n",
       "      <td>2990</td>\n",
       "    </tr>\n",
       "    <tr>\n",
       "      <th>3</th>\n",
       "      <td>Elderly</td>\n",
       "      <td>2771</td>\n",
       "    </tr>\n",
       "  </tbody>\n",
       "</table>\n",
       "</div>"
      ],
      "text/plain": [
       "     Age Range  Number of Patients with Diabetes\n",
       "0  Young Adult                               333\n",
       "1        Adult                              1268\n",
       "2  Middle Aged                              2990\n",
       "3      Elderly                              2771"
      ]
     },
     "execution_count": 56,
     "metadata": {},
     "output_type": "execute_result"
    }
   ],
   "source": [
    "# Establish the bins and labels\n",
    "\n",
    "age_diabetes_df = diabetes_prediction_clean[['age', 'diabetes']]\n",
    "age_bins = [20, 35, 50, 65, 80]\n",
    "age_labels = [\"Young Adult\", \"Adult\", \"Middle Aged\", \"Elderly\"]\n",
    "\n",
    "# Categorize the 'age' column into the defined bins\n",
    "diabetes_prediction_clean['age_group'] = pd.cut(diabetes_prediction_clean['age'], bins=age_bins, labels=age_labels, right=False)\n",
    "\n",
    "# Group by age group and sum the 'diabetes' column\n",
    "diabetes_count_by_age_group = diabetes_prediction_clean.groupby('age_group')['diabetes'].sum().reset_index()\n",
    "\n",
    "# Rename the columns by bin names \n",
    "diabetes_count_by_age_group.columns = ['Age Range', 'Number of Patients with Diabetes']\n",
    "\n",
    "# Display the result\n",
    "diabetes_count_by_age_group"
   ]
  },
  {
   "cell_type": "code",
   "execution_count": 79,
   "metadata": {},
   "outputs": [
    {
     "data": {
      "text/html": [
       "<div>\n",
       "<style scoped>\n",
       "    .dataframe tbody tr th:only-of-type {\n",
       "        vertical-align: middle;\n",
       "    }\n",
       "\n",
       "    .dataframe tbody tr th {\n",
       "        vertical-align: top;\n",
       "    }\n",
       "\n",
       "    .dataframe thead th {\n",
       "        text-align: right;\n",
       "    }\n",
       "</style>\n",
       "<table border=\"1\" class=\"dataframe\">\n",
       "  <thead>\n",
       "    <tr style=\"text-align: right;\">\n",
       "      <th></th>\n",
       "      <th>age_group</th>\n",
       "      <th>diabetes</th>\n",
       "      <th>total_patients</th>\n",
       "      <th>percentage_diabetes</th>\n",
       "    </tr>\n",
       "  </thead>\n",
       "  <tbody>\n",
       "    <tr>\n",
       "      <th>0</th>\n",
       "      <td>Young Adult</td>\n",
       "      <td>333</td>\n",
       "      <td>18215</td>\n",
       "      <td>1.83%</td>\n",
       "    </tr>\n",
       "    <tr>\n",
       "      <th>1</th>\n",
       "      <td>Adult</td>\n",
       "      <td>1268</td>\n",
       "      <td>20509</td>\n",
       "      <td>6.18%</td>\n",
       "    </tr>\n",
       "    <tr>\n",
       "      <th>2</th>\n",
       "      <td>Middle Aged</td>\n",
       "      <td>2990</td>\n",
       "      <td>20734</td>\n",
       "      <td>14.42%</td>\n",
       "    </tr>\n",
       "    <tr>\n",
       "      <th>3</th>\n",
       "      <td>Elderly</td>\n",
       "      <td>2771</td>\n",
       "      <td>12724</td>\n",
       "      <td>21.78%</td>\n",
       "    </tr>\n",
       "  </tbody>\n",
       "</table>\n",
       "</div>"
      ],
      "text/plain": [
       "     age_group  diabetes  total_patients percentage_diabetes\n",
       "0  Young Adult       333           18215               1.83%\n",
       "1        Adult      1268           20509               6.18%\n",
       "2  Middle Aged      2990           20734              14.42%\n",
       "3      Elderly      2771           12724              21.78%"
      ]
     },
     "execution_count": 79,
     "metadata": {},
     "output_type": "execute_result"
    }
   ],
   "source": [
    "age_diabetes_df = diabetes_prediction[['age', 'diabetes']]\n",
    "age_bins = [20, 35, 50, 65, 80]\n",
    "age_labels = [\"Young Adult\", \"Adult\", \"Middle Aged\", \"Elderly\"]\n",
    "\n",
    "# Categorize the 'age' column into the defined bins\n",
    "diabetes_prediction_clean.loc[:,'age_group'] = pd.cut(diabetes_prediction_clean['age'], bins=age_bins, labels=age_labels, right=False)\n",
    "\n",
    "# Group by age group and sum the 'diabetes' column to get the count of patients with diabetes\n",
    "diabetes_count_by_age_group = diabetes_prediction_clean.groupby('age_group')['diabetes'].sum().reset_index()\n",
    "\n",
    "# Calculate the total number of patients in each age group\n",
    "total_patients_by_age_group = diabetes_prediction_clean['age_group'].value_counts().reset_index()\n",
    "total_patients_by_age_group.columns = ['age_group', 'total_patients']\n",
    "\n",
    "# Merge the two DataFrames on 'age_group'\n",
    "age_diabetes_df = pd.merge(diabetes_count_by_age_group, total_patients_by_age_group, on='age_group')\n",
    "\n",
    "# Calculate the percentage of patients with diabetes within each age range\n",
    "age_diabetes_df['percentage_diabetes'] = (age_diabetes_df['diabetes'] / age_diabetes_df['total_patients']) * 100\n",
    "\n",
    "age_diabetes_df['percentage_diabetes'] = age_diabetes_df['percentage_diabetes'].map(\"{:.2f}%\".format)\n",
    "\n",
    "# Display the result\n",
    "(age_diabetes_df)"
   ]
  },
  {
   "cell_type": "code",
   "execution_count": 80,
   "metadata": {},
   "outputs": [],
   "source": [
    "age_groups = age_diabetes_df['age_group'].tolist()"
   ]
  },
  {
   "cell_type": "code",
   "execution_count": 87,
   "metadata": {},
   "outputs": [
    {
     "data": {
      "image/png": "[encoded data removed]",
      "text/plain": [
       "<Figure size 1000x600 with 1 Axes>"
      ]
     },
     "metadata": {},
     "output_type": "display_data"
    }
   ],
   "source": [
    "import matplotlib.pyplot as plt\n",
    "import numpy as np\n",
    "\n",
    "# Define the width of each bar\n",
    "bar_width = 0.35\n",
    "\n",
    "# Calculate the position for each group\n",
    "index = np.arange(len(age_diabetes_df))\n",
    "\n",
    "# Create the figure and axes objects\n",
    "fig, ax = plt.subplots(figsize=(10, 6))\n",
    "\n",
    "# Plot the bars for the total number of patients\n",
    "bar1 = ax.bar(index, age_diabetes_df['total_patients'], bar_width, label='Total Patients', color='lightblue')\n",
    "\n",
    "# Plot the bars for the percentage of diabetic patients\n",
    "bar2 = ax.bar(index + bar_width, age_diabetes_df['diabetes'], bar_width, label='Diabetic Patients', color='lightgreen')\n",
    "\n",
    "# Add labels, title, and legend\n",
    "ax.set_xlabel('Age Group')\n",
    "ax.set_ylabel('Count')\n",
    "ax.set_title('Total Patients vs Diabetic Patients by Age Group')\n",
    "ax.set_xticks(index + bar_width / 2)\n",
    "ax.set_xticklabels(age_diabetes_df['age_group'])\n",
    "ax.legend()\n",
    "\n",
    "# Display the plot\n",
    "plt.tight_layout()\n",
    "plt.show()"
   ]
  },
  {
   "cell_type": "code",
   "execution_count": 21,
   "metadata": {},
   "outputs": [],
   "source": [
    "# two sample test "
   ]
  },
  {
   "cell_type": "markdown",
   "metadata": {},
   "source": [
    "The t test above is used to test our null hypothesis. Our null hypothesis states that BMI has no affect on Diabetes. Our alternative suggests that those patienst with a BMI over 32 will be disproportionately affected by diabetes compared to those with a BMI between 18 and 25 (considred healthy range). Our two sample t test using blood glucose levels as a proxy for diabetes, as we could not directly use diabetes status for it is not a continuous variable, shows that we must reject our Null and accept the alternative! Those with BMI's greater than 32 are disproportionately impacted by diabetes compared to those with a BMI between 18 and 25! "
   ]
  }
 ],
 "metadata": {
  "kernelspec": {
   "display_name": "dev",
   "language": "python",
   "name": "python3"
  },
  "language_info": {
   "codemirror_mode": {
    "name": "ipython",
    "version": 3
   },
   "file_extension": ".py",
   "mimetype": "text/x-python",
   "name": "python",
   "nbconvert_exporter": "python",
   "pygments_lexer": "ipython3",
   "version": "3.10.13"
  }
 },
 "nbformat": 4,
 "nbformat_minor": 2
}
